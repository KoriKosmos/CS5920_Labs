{
 "cells": [
  {
   "cell_type": "code",
   "execution_count": 1,
   "metadata": {
    "collapsed": true
   },
   "outputs": [],
   "source": [
    "import numpy as np\n",
    "from sklearn.datasets import load_iris\n",
    "from sklearn.model_selection import train_test_split\n",
    "from numpy import genfromtxt\n",
    "import math"
   ]
  },
  {
   "cell_type": "code",
   "execution_count": 2,
   "outputs": [],
   "source": [
    "iris = load_iris()\n",
    "X_iris = iris.data\n",
    "y_iris = iris.target"
   ],
   "metadata": {
    "collapsed": false
   }
  },
  {
   "cell_type": "code",
   "execution_count": 3,
   "outputs": [],
   "source": [
    "ionosphere = genfromtxt('ionosphere.txt', delimiter=',')\n",
    "X_ionosphere = ionosphere[:,:-1]  # All rows and all columns except the last one\n",
    "y_ionosphere = ionosphere[:,-1]   # All rows and only the last column"
   ],
   "metadata": {
    "collapsed": false
   }
  },
  {
   "cell_type": "code",
   "execution_count": 4,
   "outputs": [],
   "source": [
    "X_train_iris, X_test_iris, y_train_iris, y_test_iris = train_test_split(X_iris, y_iris, test_size=0.33, random_state=2909)"
   ],
   "metadata": {
    "collapsed": false
   }
  },
  {
   "cell_type": "code",
   "execution_count": 5,
   "outputs": [],
   "source": [
    "X_train_ionosphere, X_test_ionosphere, y_train_ionosphere, y_test_ionosphere = train_test_split(X_ionosphere, y_ionosphere, test_size=0.33, random_state=2909)"
   ],
   "metadata": {
    "collapsed": false
   }
  },
  {
   "cell_type": "code",
   "execution_count": 6,
   "outputs": [],
   "source": [
    "def euclidean_distance(x1, x2):\n",
    "    return np.sqrt(np.sum((x1 - x2)**2))"
   ],
   "metadata": {
    "collapsed": false
   }
  },
  {
   "cell_type": "code",
   "execution_count": 7,
   "outputs": [],
   "source": [
    "def nearest_neighbour(X_train, y_train, x_test):\n",
    "    # Calculate distances between x_test and all samples in X_train\n",
    "    distances = [euclidean_distance(x_test, x_train) for x_train in X_train]\n",
    "\n",
    "    # Get the index of the smallest distance\n",
    "    nn_index = np.argmin(distances)\n",
    "\n",
    "    # Return the corresponding class label\n",
    "    return y_train[nn_index]"
   ],
   "metadata": {
    "collapsed": false
   }
  },
  {
   "cell_type": "code",
   "execution_count": 8,
   "outputs": [],
   "source": [
    "def test_nearest_neighbour(X_train, y_train, X_test, y_test):\n",
    "    # Predict the class for each test instance\n",
    "    y_pred = [nearest_neighbour(X_train, y_train, x_test) for x_test in X_test]\n",
    "\n",
    "    # Calculate the error rate\n",
    "    error_rate = np.sum(y_pred != y_test) / len(y_test)\n",
    "\n",
    "    return error_rate"
   ],
   "metadata": {
    "collapsed": false
   }
  },
  {
   "cell_type": "code",
   "execution_count": 9,
   "outputs": [
    {
     "name": "stdout",
     "output_type": "stream",
     "text": [
      "Iris dataset error rate: 8.00%\n",
      "Ionosphere dataset error rate: 15.52%\n"
     ]
    }
   ],
   "source": [
    "iris_error_rate = test_nearest_neighbour(X_train_iris, y_train_iris, X_test_iris, y_test_iris)\n",
    "print(f'Iris dataset error rate: {iris_error_rate * 100:.2f}%')\n",
    "\n",
    "ionosphere_error_rate = test_nearest_neighbour(X_train_ionosphere, y_train_ionosphere, X_test_ionosphere, y_test_ionosphere)\n",
    "print(f'Ionosphere dataset error rate: {ionosphere_error_rate * 100:.2f}%')"
   ],
   "metadata": {
    "collapsed": false
   }
  },
  {
   "cell_type": "code",
   "execution_count": 10,
   "outputs": [],
   "source": [
    "def conformity_measure(X_train, y_train, x_test, y_test):\n",
    "    same_class_indices = np.where(y_train == y_test)\n",
    "    diff_class_indices = np.where(y_train != y_test)\n",
    "\n",
    "    same_class_distances = [euclidean_distance(x_test, x_train) for x_train in X_train[same_class_indices]]\n",
    "    diff_class_distances = [euclidean_distance(x_test, x_train) for x_train in X_train[diff_class_indices]]\n",
    "\n",
    "    if len(same_class_distances) == 0:\n",
    "        same_class_nearest_distance = math.inf\n",
    "    else:\n",
    "        same_class_nearest_distance = np.min(same_class_distances)\n",
    "\n",
    "    if len(diff_class_distances) == 0:\n",
    "        diff_class_nearest_distance = math.inf\n",
    "    else:\n",
    "        diff_class_nearest_distance = np.min(diff_class_distances)\n",
    "\n",
    "    if same_class_nearest_distance == 0:\n",
    "        return math.inf\n",
    "    else:\n",
    "        return diff_class_nearest_distance / same_class_nearest_distance"
   ],
   "metadata": {
    "collapsed": false
   }
  },
  {
   "cell_type": "code",
   "execution_count": 11,
   "outputs": [],
   "source": [
    "def nearest_neighbour_conformal_predictor(X_train, y_train, X_test, y_test):\n",
    "    # Calculate the conformity measures for all test instances\n",
    "    alphas = [conformity_measure(X_train, y_train, x_test, y_test) for x_test, y_test in zip(X_test, y_test)]\n",
    "\n",
    "    # Calculate the p-values for all possible labels for all test instances\n",
    "    p_values = [np.mean([1 if alpha >= alpha_prime else 0 for alpha_prime in alphas]) for alpha in alphas]\n",
    "\n",
    "    # Calculate the average false p-value\n",
    "    avg_false_p_value = np.mean([p for p, y in zip(p_values, y_test) if p < y])\n",
    "\n",
    "    return avg_false_p_value"
   ],
   "metadata": {
    "collapsed": false
   }
  },
  {
   "cell_type": "code",
   "execution_count": 12,
   "outputs": [
    {
     "name": "stdout",
     "output_type": "stream",
     "text": [
      "Iris dataset average false p-value: 32.45%\n",
      "Ionosphere dataset average false p-value: 64.80%\n"
     ]
    }
   ],
   "source": [
    "iris_avg_false_p_value = nearest_neighbour_conformal_predictor(X_train_iris, y_train_iris, X_test_iris, y_test_iris)\n",
    "print(f'Iris dataset average false p-value: {iris_avg_false_p_value * 100:.2f}%')\n",
    "\n",
    "ionosphere_avg_false_p_value = nearest_neighbour_conformal_predictor(X_train_ionosphere, y_train_ionosphere, X_test_ionosphere, y_test_ionosphere)\n",
    "print(f'Ionosphere dataset average false p-value: {ionosphere_avg_false_p_value * 100:.2f}%')"
   ],
   "metadata": {
    "collapsed": false
   }
  }
 ],
 "metadata": {
  "kernelspec": {
   "display_name": "Python 3",
   "language": "python",
   "name": "python3"
  },
  "language_info": {
   "codemirror_mode": {
    "name": "ipython",
    "version": 2
   },
   "file_extension": ".py",
   "mimetype": "text/x-python",
   "name": "python",
   "nbconvert_exporter": "python",
   "pygments_lexer": "ipython2",
   "version": "2.7.6"
  }
 },
 "nbformat": 4,
 "nbformat_minor": 0
}
