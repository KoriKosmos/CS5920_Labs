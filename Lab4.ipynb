{
 "cells": [
  {
   "cell_type": "code",
   "execution_count": 1,
   "metadata": {
    "collapsed": true,
    "ExecuteTime": {
     "end_time": "2023-12-08T19:21:03.500751600Z",
     "start_time": "2023-12-08T19:21:02.838036900Z"
    }
   },
   "outputs": [
    {
     "data": {
      "text/plain": "(442, 10)"
     },
     "execution_count": 1,
     "metadata": {},
     "output_type": "execute_result"
    }
   ],
   "source": [
    "from sklearn.datasets import load_diabetes\n",
    "diabetes = load_diabetes()\n",
    "diabetes.data.shape"
   ]
  },
  {
   "cell_type": "code",
   "execution_count": 2,
   "outputs": [
    {
     "name": "stdout",
     "output_type": "stream",
     "text": [
      ".. _diabetes_dataset:\n",
      "\n",
      "Diabetes dataset\n",
      "----------------\n",
      "\n",
      "Ten baseline variables, age, sex, body mass index, average blood\n",
      "pressure, and six blood serum measurements were obtained for each of n =\n",
      "442 diabetes patients, as well as the response of interest, a\n",
      "quantitative measure of disease progression one year after baseline.\n",
      "\n",
      "**Data Set Characteristics:**\n",
      "\n",
      "  :Number of Instances: 442\n",
      "\n",
      "  :Number of Attributes: First 10 columns are numeric predictive values\n",
      "\n",
      "  :Target: Column 11 is a quantitative measure of disease progression one year after baseline\n",
      "\n",
      "  :Attribute Information:\n",
      "      - age     age in years\n",
      "      - sex\n",
      "      - bmi     body mass index\n",
      "      - bp      average blood pressure\n",
      "      - s1      tc, total serum cholesterol\n",
      "      - s2      ldl, low-density lipoproteins\n",
      "      - s3      hdl, high-density lipoproteins\n",
      "      - s4      tch, total cholesterol / HDL\n",
      "      - s5      ltg, possibly log of serum triglycerides level\n",
      "      - s6      glu, blood sugar level\n",
      "\n",
      "Note: Each of these 10 feature variables have been mean centered and scaled by the standard deviation times the square root of `n_samples` (i.e. the sum of squares of each column totals 1).\n",
      "\n",
      "Source URL:\n",
      "https://www4.stat.ncsu.edu/~boos/var.select/diabetes.html\n",
      "\n",
      "For more information see:\n",
      "Bradley Efron, Trevor Hastie, Iain Johnstone and Robert Tibshirani (2004) \"Least Angle Regression,\" Annals of Statistics (with discussion), 407-499.\n",
      "(https://web.stanford.edu/~hastie/Papers/LARS/LeastAngle_2002.pdf)\n",
      "\n"
     ]
    }
   ],
   "source": [
    "print(diabetes.DESCR)"
   ],
   "metadata": {
    "collapsed": false,
    "ExecuteTime": {
     "end_time": "2023-12-08T19:21:03.506094700Z",
     "start_time": "2023-12-08T19:21:03.499753600Z"
    }
   }
  },
  {
   "cell_type": "code",
   "execution_count": 3,
   "outputs": [
    {
     "data": {
      "text/plain": "[<matplotlib.lines.Line2D at 0x2aee3a136d0>]"
     },
     "execution_count": 3,
     "metadata": {},
     "output_type": "execute_result"
    },
    {
     "data": {
      "text/plain": "<Figure size 640x480 with 1 Axes>",
      "image/png": "[encoded data removed]"
     },
     "metadata": {},
     "output_type": "display_data"
    }
   ],
   "source": [
    "from sklearn.model_selection import train_test_split\n",
    "X_train, X_test, y_train, y_test = train_test_split(diabetes['data'],\n",
    "                                                    diabetes['target'], random_state=42)\n",
    "from sklearn.neighbors import KNeighborsRegressor\n",
    "K_max = 100 # maximal number of nearest neighbours to consider\n",
    "import numpy as np\n",
    "results = np.empty(K_max)\n",
    "for k in range(K_max):\n",
    "    knn = KNeighborsRegressor(n_neighbors=k+3)\n",
    "knn.fit(X_train, y_train)\n",
    "results[k] = knn.score(X_test, y_test)\n",
    "%matplotlib inline\n",
    "import matplotlib.pyplot as plt\n",
    "plt.plot(np.arange(K_max)+3,results)\n"
   ],
   "metadata": {
    "collapsed": false,
    "ExecuteTime": {
     "end_time": "2023-12-08T19:21:04.047468600Z",
     "start_time": "2023-12-08T19:21:03.507096500Z"
    }
   }
  },
  {
   "cell_type": "code",
   "execution_count": 4,
   "outputs": [
    {
     "name": "stdout",
     "output_type": "stream",
     "text": [
      "Help on function score in module sklearn.base:\n",
      "\n",
      "score(self, X, y, sample_weight=None)\n",
      "    Return the coefficient of determination of the prediction.\n",
      "    \n",
      "    The coefficient of determination :math:`R^2` is defined as\n",
      "    :math:`(1 - \\frac{u}{v})`, where :math:`u` is the residual\n",
      "    sum of squares ``((y_true - y_pred)** 2).sum()`` and :math:`v`\n",
      "    is the total sum of squares ``((y_true - y_true.mean()) ** 2).sum()``.\n",
      "    The best possible score is 1.0 and it can be negative (because the\n",
      "    model can be arbitrarily worse). A constant model that always predicts\n",
      "    the expected value of `y`, disregarding the input features, would get\n",
      "    a :math:`R^2` score of 0.0.\n",
      "    \n",
      "    Parameters\n",
      "    ----------\n",
      "    X : array-like of shape (n_samples, n_features)\n",
      "        Test samples. For some estimators this may be a precomputed\n",
      "        kernel matrix or a list of generic objects instead with shape\n",
      "        ``(n_samples, n_samples_fitted)``, where ``n_samples_fitted``\n",
      "        is the number of samples used in the fitting for the estimator.\n",
      "    \n",
      "    y : array-like of shape (n_samples,) or (n_samples, n_outputs)\n",
      "        True values for `X`.\n",
      "    \n",
      "    sample_weight : array-like of shape (n_samples,), default=None\n",
      "        Sample weights.\n",
      "    \n",
      "    Returns\n",
      "    -------\n",
      "    score : float\n",
      "        :math:`R^2` of ``self.predict(X)`` w.r.t. `y`.\n",
      "    \n",
      "    Notes\n",
      "    -----\n",
      "    The :math:`R^2` score used when calling ``score`` on a regressor uses\n",
      "    ``multioutput='uniform_average'`` from version 0.23 to keep consistent\n",
      "    with default value of :func:`~sklearn.metrics.r2_score`.\n",
      "    This influences the ``score`` method of all the multioutput\n",
      "    regressors (except for\n",
      "    :class:`~sklearn.multioutput.MultiOutputRegressor`).\n",
      "\n"
     ]
    }
   ],
   "source": [
    "help(KNeighborsRegressor.score)"
   ],
   "metadata": {
    "collapsed": false,
    "ExecuteTime": {
     "end_time": "2023-12-08T19:21:04.048472800Z",
     "start_time": "2023-12-08T19:21:04.047468600Z"
    }
   }
  },
  {
   "cell_type": "code",
   "execution_count": 5,
   "outputs": [
    {
     "data": {
      "text/plain": "array([0.28743721, 0.24283699, 0.32312734, 0.32108514, 0.12845082])"
     },
     "execution_count": 5,
     "metadata": {},
     "output_type": "execute_result"
    }
   ],
   "source": [
    "from sklearn.model_selection import cross_val_score\n",
    "knn = KNeighborsRegressor(n_neighbors=3)\n",
    "cross_val_score(knn, X_train, y_train)"
   ],
   "metadata": {
    "collapsed": false,
    "ExecuteTime": {
     "end_time": "2023-12-08T19:21:04.048472800Z",
     "start_time": "2023-12-08T19:21:04.047468600Z"
    }
   }
  },
  {
   "cell_type": "code",
   "execution_count": 6,
   "outputs": [
    {
     "name": "stdout",
     "output_type": "stream",
     "text": [
      "[0.36498737 0.32300369 0.26748019 0.43230668 0.40572547]\n"
     ]
    }
   ],
   "source": [
    "from sklearn.utils import shuffle\n",
    "X, y = shuffle(diabetes.data, diabetes.target, random_state=42)\n",
    "print(cross_val_score(knn, X, y))\n"
   ],
   "metadata": {
    "collapsed": false,
    "ExecuteTime": {
     "end_time": "2023-12-08T19:21:04.062188700Z",
     "start_time": "2023-12-08T19:21:04.047468600Z"
    }
   }
  },
  {
   "cell_type": "code",
   "execution_count": 7,
   "outputs": [
    {
     "data": {
      "text/plain": "0.37222167132521977"
     },
     "execution_count": 7,
     "metadata": {},
     "output_type": "execute_result"
    }
   ],
   "source": [
    "knn.fit(X_train, y_train)\n",
    "knn.score(X_test, y_test)"
   ],
   "metadata": {
    "collapsed": false,
    "ExecuteTime": {
     "end_time": "2023-12-08T19:21:04.062188700Z",
     "start_time": "2023-12-08T19:21:04.056884100Z"
    }
   }
  },
  {
   "cell_type": "code",
   "execution_count": 8,
   "outputs": [
    {
     "data": {
      "text/plain": "[<matplotlib.lines.Line2D at 0x2aee3aa31d0>]"
     },
     "execution_count": 8,
     "metadata": {},
     "output_type": "execute_result"
    },
    {
     "data": {
      "text/plain": "<Figure size 640x480 with 1 Axes>",
      "image/png": "[encoded data removed]"
     },
     "metadata": {},
     "output_type": "display_data"
    }
   ],
   "source": [
    "K_max = 100 # maximal number of nearest neighbours to consider\n",
    "for k in range(K_max):\n",
    "    knn = KNeighborsRegressor(n_neighbors=k+3)\n",
    "results[k] = np.mean(cross_val_score(knn, X, y))\n",
    "plt.plot(np.arange(K_max)+3,results)"
   ],
   "metadata": {
    "collapsed": false,
    "ExecuteTime": {
     "end_time": "2023-12-08T19:21:04.218291300Z",
     "start_time": "2023-12-08T19:21:04.061188400Z"
    }
   }
  },
  {
   "cell_type": "code",
   "execution_count": 9,
   "outputs": [
    {
     "data": {
      "text/plain": "[<matplotlib.lines.Line2D at 0x2aee3bbe450>]"
     },
     "execution_count": 9,
     "metadata": {},
     "output_type": "execute_result"
    },
    {
     "data": {
      "text/plain": "<Figure size 640x480 with 1 Axes>",
      "image/png": "[encoded data removed]"
     },
     "metadata": {},
     "output_type": "display_data"
    }
   ],
   "source": [
    "knn = KNeighborsRegressor(n_neighbors=10)\n",
    "train_sizes = np.array([50,100,200,300]) # sizes of training sets that we will try\n",
    "\n",
    "results = np.empty(train_sizes.size)\n",
    "for k in range(train_sizes.size):\n",
    "    X_train, X_test, y_train, y_test = train_test_split(diabetes.data,\n",
    "                                                        diabetes.target, train_size=train_sizes[k], random_state=42)\n",
    "knn.fit(X_train, y_train)\n",
    "results[k] = knn.score(X_test, y_test)\n",
    "plt.plot(train_sizes,results)\n"
   ],
   "metadata": {
    "collapsed": false,
    "ExecuteTime": {
     "end_time": "2023-12-08T19:21:04.279923100Z",
     "start_time": "2023-12-08T19:21:04.170725400Z"
    }
   }
  },
  {
   "cell_type": "code",
   "execution_count": 10,
   "outputs": [
    {
     "name": "stdout",
     "output_type": "stream",
     "text": [
      "[ 222696.01205567  300619.03930609 -381574.17505483 -428650.68863272\n",
      " -407305.37923963  291493.54867926  470860.47319899 -467519.49215117\n",
      " -120894.88893638 -325883.58181384 -114364.20609529 -260635.38469719\n",
      "  -10802.11884351 -170552.76286405  326182.20544662  276956.25382523\n",
      "   89605.87921627 -273437.65767388 -131560.16920239  432750.11938215\n",
      " -113782.53741501 -258218.46583476   69118.09295096 -314748.17599878\n",
      "  418989.21117367 -224757.25768748 -309211.42219515 -324789.48277344\n",
      " -342950.06577988 -387321.43052972   80172.73953184  115213.03151808\n",
      " -235323.09426814  271195.69235898 -309016.28089337  209985.13179246\n",
      " -257162.13564708 -371994.15087883 -462600.60051122  132012.39053304\n",
      "  -77672.3703976  -153159.03515637 -422293.02362319  141881.78403944\n",
      "  -54715.24747264 -390634.64493056 -498931.6618801  -442919.4999026\n",
      "  144336.91256928 -246862.66977084 -176060.72712203 -129589.98095472\n",
      " -217988.66578149  208905.65532946  417216.29103787  -26718.86862248\n",
      "   35206.03351915 -244568.86620658   -3458.90088293  215730.27133911\n",
      "  363596.60304548 -288285.39214921 -452521.60482196  -20252.95391231\n",
      " -377379.6398637   474627.08736836  -52225.10813653 -108473.9273144\n",
      "  -45290.64137486  244378.30478535   28889.57746435 -299779.40885161\n",
      "  211636.41801846  111000.41052292   70094.86701785 -180022.98356899\n",
      "  157472.47071706   60643.59104618  195622.59550695  136754.6540351\n",
      "  416492.98847084 -467597.1256897    -8985.77133934 -384059.29889527\n",
      " -348469.28635531 -296609.4542269  -499916.76228962 -441153.96709196\n",
      "  -63503.15254305  293352.82957693 -449495.87206316 -118827.59466447\n",
      " -420695.49176083 -324555.28660354  132172.86869701  106266.94588204\n",
      "  -56239.08230017  354608.51602943 -208709.77180161]\n"
     ]
    }
   ],
   "source": [
    "n = 99 # we are in the morning of the 100th day\n",
    "L = 10**6 * np.random.random((n)) - 10**6/2\n",
    "print(L)"
   ],
   "metadata": {
    "collapsed": false,
    "ExecuteTime": {
     "end_time": "2023-12-08T19:21:04.280843900Z",
     "start_time": "2023-12-08T19:21:04.269259300Z"
    }
   }
  },
  {
   "cell_type": "code",
   "execution_count": 11,
   "outputs": [
    {
     "name": "stdout",
     "output_type": "stream",
     "text": [
      "208905.65532946412\n"
     ]
    }
   ],
   "source": [
    "sorted_L = np.sort(L)\n",
    "VaR = sorted_L[-int(np.floor((n+1)/5))]\n",
    "print(VaR)"
   ],
   "metadata": {
    "collapsed": false,
    "ExecuteTime": {
     "end_time": "2023-12-08T19:21:04.280843900Z",
     "start_time": "2023-12-08T19:21:04.272699400Z"
    }
   }
  },
  {
   "cell_type": "code",
   "execution_count": 12,
   "outputs": [
    {
     "data": {
      "text/plain": "4.0"
     },
     "execution_count": 12,
     "metadata": {},
     "output_type": "execute_result"
    }
   ],
   "source": [
    "np.floor(4.5)"
   ],
   "metadata": {
    "collapsed": false,
    "ExecuteTime": {
     "end_time": "2023-12-08T19:21:04.280843900Z",
     "start_time": "2023-12-08T19:21:04.276726800Z"
    }
   }
  },
  {
   "cell_type": "code",
   "execution_count": 13,
   "outputs": [],
   "source": [
    "import math\n",
    "def VaR(L):\n",
    "    \"\"\"Value at Risk (a primitive conformal predictor)\"\"\"\n",
    "    if L.size>=4:\n",
    "        return np.sort(L)[-int(np.floor((n+1)/5))]\n",
    "    else:\n",
    "        return math.inf"
   ],
   "metadata": {
    "collapsed": false,
    "ExecuteTime": {
     "end_time": "2023-12-08T19:21:04.312706100Z",
     "start_time": "2023-12-08T19:21:04.279923100Z"
    }
   }
  },
  {
   "cell_type": "code",
   "execution_count": 14,
   "outputs": [],
   "source": [
    "N = 500 # the number of days\n",
    "# The losses on those days:\n",
    "L = 10**6 * np.random.random_sample((N)) - 10**6/2"
   ],
   "metadata": {
    "collapsed": false,
    "ExecuteTime": {
     "end_time": "2023-12-08T19:21:04.312706100Z",
     "start_time": "2023-12-08T19:21:04.284355700Z"
    }
   }
  },
  {
   "cell_type": "code",
   "execution_count": 15,
   "outputs": [
    {
     "name": "stdout",
     "output_type": "stream",
     "text": [
      "0.82\n"
     ]
    }
   ],
   "source": [
    "successes = np.empty(N)\n",
    "for n in range(N):\n",
    "    # This is what happens on the (n+1)st day:\n",
    "    V = VaR(L[:n]) # VaR for the (n+1)st day\n",
    "    if L[n]<=V:\n",
    "        successes[n] = 1 # our VaR worked\n",
    "    else:\n",
    "        successes[n] = 0 # it didn't\n",
    "print(np.mean(successes))"
   ],
   "metadata": {
    "collapsed": false,
    "ExecuteTime": {
     "end_time": "2023-12-08T19:21:04.312706100Z",
     "start_time": "2023-12-08T19:21:04.289039200Z"
    }
   }
  },
  {
   "cell_type": "code",
   "execution_count": 16,
   "outputs": [
    {
     "data": {
      "text/plain": "[<matplotlib.lines.Line2D at 0x2aee397b1d0>]"
     },
     "execution_count": 16,
     "metadata": {},
     "output_type": "execute_result"
    },
    {
     "data": {
      "text/plain": "<Figure size 640x480 with 1 Axes>",
      "image/png": "[encoded data removed]"
     },
     "metadata": {},
     "output_type": "display_data"
    }
   ],
   "source": [
    "plt.plot(np.arange(N)+1,np.cumsum(successes))"
   ],
   "metadata": {
    "collapsed": false,
    "ExecuteTime": {
     "end_time": "2023-12-08T19:21:04.436586800Z",
     "start_time": "2023-12-08T19:21:04.297194Z"
    }
   }
  }
 ],
 "metadata": {
  "kernelspec": {
   "display_name": "Python 3",
   "language": "python",
   "name": "python3"
  },
  "language_info": {
   "codemirror_mode": {
    "name": "ipython",
    "version": 2
   },
   "file_extension": ".py",
   "mimetype": "text/x-python",
   "name": "python",
   "nbconvert_exporter": "python",
   "pygments_lexer": "ipython2",
   "version": "2.7.6"
  }
 },
 "nbformat": 4,
 "nbformat_minor": 0
}
