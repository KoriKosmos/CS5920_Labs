{
 "cells": [
  {
   "cell_type": "code",
   "execution_count": 1,
   "metadata": {
    "collapsed": true
   },
   "outputs": [
    {
     "data": {
      "text/plain": "array([[ 1.     ,  0.     ,  0.99539, -0.05889,  0.85243,  0.02306,\n         0.83398, -0.37708,  1.     ,  0.0376 ,  0.85243, -0.17755,\n         0.59755, -0.44945,  0.60536, -0.38223,  0.84356, -0.38542,\n         0.58212, -0.32192,  0.56971, -0.29674,  0.36946, -0.47357,\n         0.56811, -0.51171,  0.41078, -0.46168,  0.21266, -0.3409 ,\n         0.42267, -0.54487,  0.18641, -0.453  ,  1.     ],\n       [ 1.     ,  0.     ,  1.     , -0.18829,  0.93035, -0.36156,\n        -0.10868, -0.93597,  1.     , -0.04549,  0.50874, -0.67743,\n         0.34432, -0.69707, -0.51685, -0.97515,  0.05499, -0.62237,\n         0.33109, -1.     , -0.13151, -0.453  , -0.18056, -0.35734,\n        -0.20332, -0.26569, -0.20468, -0.18401, -0.1904 , -0.11593,\n        -0.16626, -0.06288, -0.13738, -0.02447, -1.     ],\n       [ 1.     ,  0.     ,  1.     , -0.03365,  1.     ,  0.00485,\n         1.     , -0.12062,  0.88965,  0.01198,  0.73082,  0.05346,\n         0.85443,  0.00827,  0.54591,  0.00299,  0.83775, -0.13644,\n         0.75535, -0.0854 ,  0.70887, -0.27502,  0.43385, -0.12062,\n         0.57528, -0.4022 ,  0.58984, -0.22145,  0.431  , -0.17365,\n         0.60436, -0.2418 ,  0.56045, -0.38238,  1.     ]])"
     },
     "execution_count": 1,
     "metadata": {},
     "output_type": "execute_result"
    }
   ],
   "source": [
    "import numpy as np\n",
    "X = np.genfromtxt(\"ionosphere.txt\", delimiter=\",\")\n",
    "X[:3]"
   ]
  },
  {
   "cell_type": "code",
   "execution_count": 2,
   "outputs": [
    {
     "data": {
      "text/plain": "array([[ 1.     ,  0.     ,  0.99539, -0.05889,  0.85243,  0.02306,\n         0.83398, -0.37708,  1.     ,  0.0376 ,  0.85243, -0.17755,\n         0.59755, -0.44945,  0.60536, -0.38223,  0.84356, -0.38542,\n         0.58212, -0.32192,  0.56971, -0.29674,  0.36946, -0.47357,\n         0.56811, -0.51171,  0.41078, -0.46168,  0.21266, -0.3409 ,\n         0.42267, -0.54487,  0.18641, -0.453  ],\n       [ 1.     ,  0.     ,  1.     , -0.18829,  0.93035, -0.36156,\n        -0.10868, -0.93597,  1.     , -0.04549,  0.50874, -0.67743,\n         0.34432, -0.69707, -0.51685, -0.97515,  0.05499, -0.62237,\n         0.33109, -1.     , -0.13151, -0.453  , -0.18056, -0.35734,\n        -0.20332, -0.26569, -0.20468, -0.18401, -0.1904 , -0.11593,\n        -0.16626, -0.06288, -0.13738, -0.02447],\n       [ 1.     ,  0.     ,  1.     , -0.03365,  1.     ,  0.00485,\n         1.     , -0.12062,  0.88965,  0.01198,  0.73082,  0.05346,\n         0.85443,  0.00827,  0.54591,  0.00299,  0.83775, -0.13644,\n         0.75535, -0.0854 ,  0.70887, -0.27502,  0.43385, -0.12062,\n         0.57528, -0.4022 ,  0.58984, -0.22145,  0.431  , -0.17365,\n         0.60436, -0.2418 ,  0.56045, -0.38238]])"
     },
     "execution_count": 2,
     "metadata": {},
     "output_type": "execute_result"
    }
   ],
   "source": [
    "X = np.genfromtxt(\"ionosphere.txt\", delimiter=\",\",\n",
    "                  usecols=np.arange(34))\n",
    "X[:3]"
   ],
   "metadata": {
    "collapsed": false
   }
  },
  {
   "cell_type": "code",
   "execution_count": 3,
   "outputs": [
    {
     "data": {
      "text/plain": "array([ 1, -1,  1])"
     },
     "execution_count": 3,
     "metadata": {},
     "output_type": "execute_result"
    }
   ],
   "source": [
    "y = np.genfromtxt(\"ionosphere.txt\", delimiter=\",\",\n",
    "                  usecols=34, dtype='int')\n",
    "y[:3]"
   ],
   "metadata": {
    "collapsed": false
   }
  },
  {
   "cell_type": "code",
   "execution_count": 4,
   "outputs": [
    {
     "data": {
      "text/plain": "27"
     },
     "execution_count": 4,
     "metadata": {},
     "output_type": "execute_result"
    }
   ],
   "source": [
    "def cube(x):\n",
    "    \"\"\"this is my first function in this module; it cubes a number\"\"\"\n",
    "    return x**3\n",
    "cube(3)"
   ],
   "metadata": {
    "collapsed": false
   }
  },
  {
   "cell_type": "code",
   "execution_count": 5,
   "outputs": [
    {
     "name": "stdout",
     "output_type": "stream",
     "text": [
      "Help on function cube in module __main__:\n",
      "\n",
      "cube(x)\n",
      "    this is my first function in this module; it cubes a number\n",
      "\n"
     ]
    }
   ],
   "source": [
    "help(cube)"
   ],
   "metadata": {
    "collapsed": false
   }
  },
  {
   "cell_type": "code",
   "execution_count": 6,
   "outputs": [
    {
     "data": {
      "text/plain": "(9, 27)"
     },
     "execution_count": 6,
     "metadata": {},
     "output_type": "execute_result"
    }
   ],
   "source": [
    "def powers(x):\n",
    "    \"\"\"this function computes both square and cube\"\"\"\n",
    "    return x**2, x**3\n",
    "powers(3)"
   ],
   "metadata": {
    "collapsed": false
   }
  },
  {
   "cell_type": "code",
   "execution_count": 7,
   "outputs": [
    {
     "data": {
      "text/plain": "27"
     },
     "execution_count": 7,
     "metadata": {},
     "output_type": "execute_result"
    }
   ],
   "source": [
    "powers(3)[1]"
   ],
   "metadata": {
    "collapsed": false
   }
  },
  {
   "cell_type": "code",
   "execution_count": 8,
   "outputs": [
    {
     "data": {
      "text/plain": "array([1, 2, 3])"
     },
     "execution_count": 8,
     "metadata": {},
     "output_type": "execute_result"
    }
   ],
   "source": [
    "a = np.array([1,2,3])\n",
    "a"
   ],
   "metadata": {
    "collapsed": false
   }
  },
  {
   "cell_type": "code",
   "execution_count": 9,
   "outputs": [
    {
     "data": {
      "text/plain": "array([1, 2, 3])"
     },
     "execution_count": 9,
     "metadata": {},
     "output_type": "execute_result"
    }
   ],
   "source": [
    "b = a\n",
    "b"
   ],
   "metadata": {
    "collapsed": false
   }
  },
  {
   "cell_type": "code",
   "execution_count": 10,
   "outputs": [
    {
     "data": {
      "text/plain": "array([  1, 100,   3])"
     },
     "execution_count": 10,
     "metadata": {},
     "output_type": "execute_result"
    }
   ],
   "source": [
    "a[1] = 100\n",
    "a"
   ],
   "metadata": {
    "collapsed": false
   }
  },
  {
   "cell_type": "code",
   "execution_count": 11,
   "outputs": [
    {
     "data": {
      "text/plain": "array([  1, 100,   3])"
     },
     "execution_count": 11,
     "metadata": {},
     "output_type": "execute_result"
    }
   ],
   "source": [
    "b"
   ],
   "metadata": {
    "collapsed": false
   }
  },
  {
   "cell_type": "code",
   "execution_count": 12,
   "outputs": [],
   "source": [
    "b = np.array(a)"
   ],
   "metadata": {
    "collapsed": false
   }
  },
  {
   "cell_type": "code",
   "execution_count": 13,
   "outputs": [],
   "source": [
    "b = a.copy()"
   ],
   "metadata": {
    "collapsed": false
   }
  },
  {
   "cell_type": "code",
   "execution_count": 14,
   "outputs": [
    {
     "data": {
      "text/plain": "array([1, 2, 3, 5, 6])"
     },
     "execution_count": 14,
     "metadata": {},
     "output_type": "execute_result"
    }
   ],
   "source": [
    "a = np.array([1,2,3])\n",
    "b = np.array([5,6])\n",
    "np.concatenate((a,b))"
   ],
   "metadata": {
    "collapsed": false
   }
  },
  {
   "cell_type": "code",
   "execution_count": 15,
   "outputs": [],
   "source": [
    "my_array = np.concatenate((np.arange(10**6),np.array([4])))"
   ],
   "metadata": {
    "collapsed": false
   }
  },
  {
   "cell_type": "code",
   "execution_count": 15,
   "outputs": [],
   "source": [],
   "metadata": {
    "collapsed": false
   }
  }
 ],
 "metadata": {
  "kernelspec": {
   "display_name": "Python 3",
   "language": "python",
   "name": "python3"
  },
  "language_info": {
   "codemirror_mode": {
    "name": "ipython",
    "version": 2
   },
   "file_extension": ".py",
   "mimetype": "text/x-python",
   "name": "python",
   "nbconvert_exporter": "python",
   "pygments_lexer": "ipython2",
   "version": "2.7.6"
  }
 },
 "nbformat": 4,
 "nbformat_minor": 0
}
