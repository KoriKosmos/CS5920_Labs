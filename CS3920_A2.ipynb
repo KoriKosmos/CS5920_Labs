{
 "cells": [
  {
   "cell_type": "code",
   "execution_count": 1,
   "outputs": [],
   "source": [
    "from sklearn.datasets import load_wine\n",
    "wine = load_wine()\n",
    "X_wine, y_wine = wine.data, wine.target"
   ],
   "metadata": {
    "collapsed": false,
    "ExecuteTime": {
     "end_time": "2023-12-17T21:16:49.548894500Z",
     "start_time": "2023-12-17T21:16:48.837595Z"
    }
   }
  },
  {
   "cell_type": "code",
   "execution_count": 2,
   "outputs": [],
   "source": [
    "import numpy as np\n",
    "\n",
    "FRACTION = 10\n",
    "X_train_usps = np.genfromtxt('zip.train', delimiter=' ')[::FRACTION]\n",
    "X_test_usps = np.genfromtxt('zip.test', delimiter=' ')[::FRACTION]\n",
    "\n",
    "y_train_usps = X_train_usps[:, 0]\n",
    "y_test_usps = X_test_usps[:, 0]\n",
    "X_train_usps = X_train_usps[:, 1:]\n",
    "X_test_usps = X_test_usps[:, 1:]\n",
    "\n",
    "X_usps = np.concatenate((X_train_usps, X_test_usps), axis=0)\n",
    "y_usps = np.concatenate((y_train_usps, y_test_usps), axis=0)\n"
   ],
   "metadata": {
    "collapsed": false,
    "ExecuteTime": {
     "end_time": "2023-12-17T21:16:50.336722700Z",
     "start_time": "2023-12-17T21:16:49.550894300Z"
    }
   }
  },
  {
   "cell_type": "code",
   "execution_count": 3,
   "outputs": [],
   "source": [
    "from sklearn.model_selection import train_test_split\n",
    "\n",
    "X_train_wine, X_test_wine, y_train_wine, y_test_wine = train_test_split(X_wine, y_wine, random_state=2909)\n",
    "X_train_usps, X_test_usps, y_train_usps, y_test_usps = train_test_split(X_usps, y_usps, random_state=2909)\n"
   ],
   "metadata": {
    "collapsed": false,
    "ExecuteTime": {
     "end_time": "2023-12-17T21:16:50.396102600Z",
     "start_time": "2023-12-17T21:16:50.337773500Z"
    }
   }
  },
  {
   "cell_type": "code",
   "execution_count": 4,
   "outputs": [],
   "source": [
    "from sklearn.svm import SVC\n",
    "from sklearn.model_selection import cross_val_score\n",
    "\n",
    "CV = 5\n",
    "\n",
    "svm = SVC()\n",
    "scores_wine = cross_val_score(svm, X_train_wine, y_train_wine, cv=CV)\n",
    "generalization_accuracy_wine = np.mean(scores_wine)\n",
    "\n",
    "scores_usps = cross_val_score(svm, X_train_usps, y_train_usps, cv=CV)\n",
    "generalization_accuracy_usps = np.mean(scores_usps)\n"
   ],
   "metadata": {
    "collapsed": false,
    "ExecuteTime": {
     "end_time": "2023-12-17T21:16:50.635487700Z",
     "start_time": "2023-12-17T21:16:50.379166600Z"
    }
   }
  },
  {
   "cell_type": "code",
   "execution_count": 5,
   "outputs": [],
   "source": [
    "svm.fit(X_train_wine, y_train_wine)\n",
    "test_error_rate_wine = 1 - svm.score(X_test_wine, y_test_wine)\n",
    "\n",
    "svm.fit(X_train_usps, y_train_usps)\n",
    "test_error_rate_usps = 1 - svm.score(X_test_usps, y_test_usps)\n"
   ],
   "metadata": {
    "collapsed": false,
    "ExecuteTime": {
     "end_time": "2023-12-17T21:16:50.693083600Z",
     "start_time": "2023-12-17T21:16:50.636482800Z"
    }
   }
  },
  {
   "cell_type": "code",
   "execution_count": 6,
   "outputs": [],
   "source": [
    "from sklearn.model_selection import GridSearchCV\n",
    "from sklearn.pipeline import Pipeline\n",
    "from sklearn.preprocessing import StandardScaler, MinMaxScaler, Normalizer, RobustScaler\n",
    "from sklearn.svm import SVC\n",
    "\n",
    "\n",
    "param_grid = {'SVC__C': [0.01, 0.1, 1, 10], 'SVC__gamma': [0.001, 0.01, 0.1, 1]}\n",
    "n_jobs = -1  # Use all available CPU cores\n",
    "\n",
    "\n",
    "scalers = {'StandardScaler': StandardScaler(),\n",
    "           'MinMaxScaler': MinMaxScaler(),\n",
    "           'Normalizer': Normalizer(),\n",
    "           'RobustScaler': RobustScaler()}\n",
    "\n",
    "best_estimators_wine = {}\n",
    "best_estimators_usps = {}\n",
    "\n"
   ],
   "metadata": {
    "collapsed": false,
    "ExecuteTime": {
     "end_time": "2023-12-17T21:16:50.695605100Z",
     "start_time": "2023-12-17T21:16:50.688581800Z"
    }
   }
  },
  {
   "cell_type": "code",
   "execution_count": 7,
   "outputs": [
    {
     "name": "stdout",
     "output_type": "stream",
     "text": [
      "Processing Wine dataset with different scalers...\n",
      "Wine - StandardScaler: Best CV Accuracy: 0.9925925925925926, Test Set Accuracy: 1.0, Best Params: {'SVC__C': 1, 'SVC__gamma': 0.01}, Test Error Rate: 0.0\n",
      "Wine - MinMaxScaler: Best CV Accuracy: 0.9851851851851852, Test Set Accuracy: 0.9777777777777777, Best Params: {'SVC__C': 0.1, 'SVC__gamma': 1}, Test Error Rate: 0.022222222222222254\n",
      "Wine - Normalizer: Best CV Accuracy: 0.6168091168091168, Test Set Accuracy: 0.6888888888888889, Best Params: {'SVC__C': 10, 'SVC__gamma': 1}, Test Error Rate: 0.3111111111111111\n",
      "Wine - RobustScaler: Best CV Accuracy: 0.9849002849002849, Test Set Accuracy: 0.9777777777777777, Best Params: {'SVC__C': 1, 'SVC__gamma': 0.1}, Test Error Rate: 0.022222222222222254\n"
     ]
    }
   ],
   "source": [
    "print(\"Processing Wine dataset with different scalers...\")\n",
    "for scaler_name, scaler in scalers.items():\n",
    "    wine_pipeline = Pipeline([('scaler', scaler), ('SVC', SVC())])\n",
    "    wine_grid_search = GridSearchCV(wine_pipeline, param_grid, cv=CV, n_jobs=n_jobs)\n",
    "    wine_grid_search.fit(X_train_wine, y_train_wine)\n",
    "\n",
    "\n",
    "    best_estimators_wine[scaler_name] = wine_grid_search.best_estimator_\n",
    "\n",
    "\n",
    "    wine_best_score = wine_grid_search.best_score_\n",
    "    wine_test_score = wine_grid_search.score(X_test_wine, y_test_wine)\n",
    "    wine_best_params = wine_grid_search.best_params_\n",
    "    wine_test_error_rate = 1 - wine_test_score\n",
    "\n",
    "    print(f\"Wine - {scaler_name}: Best CV Accuracy: {wine_best_score}, Test Set Accuracy: {wine_test_score}, Best Params: {wine_best_params}, Test Error Rate: {wine_test_error_rate}\")"
   ],
   "metadata": {
    "collapsed": false,
    "ExecuteTime": {
     "end_time": "2023-12-17T21:16:52.725587700Z",
     "start_time": "2023-12-17T21:16:50.694604900Z"
    }
   }
  },
  {
   "cell_type": "code",
   "execution_count": 8,
   "outputs": [
    {
     "name": "stdout",
     "output_type": "stream",
     "text": [
      "\n",
      "Processing USPS dataset with different scalers...\n",
      "USPS - StandardScaler: Best CV Accuracy: 0.9168653648509764, Test Set Accuracy: 0.9012875536480687, Best Params: {'SVC__C': 10, 'SVC__gamma': 0.001}, Test Error Rate: 0.09871244635193133\n",
      "USPS - MinMaxScaler: Best CV Accuracy: 0.9183556012332991, Test Set Accuracy: 0.9141630901287554, Best Params: {'SVC__C': 10, 'SVC__gamma': 0.01}, Test Error Rate: 0.0858369098712446\n",
      "USPS - Normalizer: Best CV Accuracy: 0.9255292908530318, Test Set Accuracy: 0.9098712446351931, Best Params: {'SVC__C': 10, 'SVC__gamma': 1}, Test Error Rate: 0.09012875536480691\n",
      "USPS - RobustScaler: Best CV Accuracy: 0.7033915724563207, Test Set Accuracy: 0.7296137339055794, Best Params: {'SVC__C': 10, 'SVC__gamma': 0.001}, Test Error Rate: 0.2703862660944206\n"
     ]
    }
   ],
   "source": [
    "print(\"\\nProcessing USPS dataset with different scalers...\")\n",
    "for scaler_name, scaler in scalers.items():\n",
    "    usps_pipeline = Pipeline([('scaler', scaler), ('SVC', SVC())])\n",
    "    usps_grid_search = GridSearchCV(usps_pipeline, param_grid, cv=CV, n_jobs=n_jobs)\n",
    "    usps_grid_search.fit(X_train_usps, y_train_usps)\n",
    "\n",
    "\n",
    "    best_estimators_usps[scaler_name] = usps_grid_search.best_estimator_\n",
    "\n",
    "\n",
    "    usps_best_score = usps_grid_search.best_score_\n",
    "    usps_test_score = usps_grid_search.score(X_test_usps, y_test_usps)\n",
    "    usps_best_params = usps_grid_search.best_params_\n",
    "    usps_test_error_rate = 1 - usps_test_score\n",
    "\n",
    "    print(f\"USPS - {scaler_name}: Best CV Accuracy: {usps_best_score}, Test Set Accuracy: {usps_test_score}, Best Params: {usps_best_params}, Test Error Rate: {usps_test_error_rate}\")\n"
   ],
   "metadata": {
    "collapsed": false,
    "ExecuteTime": {
     "end_time": "2023-12-17T21:16:55.849566800Z",
     "start_time": "2023-12-17T21:16:52.726586400Z"
    }
   }
  },
  {
   "cell_type": "code",
   "execution_count": 9,
   "outputs": [
    {
     "name": "stdout",
     "output_type": "stream",
     "text": [
      "\n",
      "Wine Dataset - Best Scaler: StandardScaler, Test Error Rate: 0.0000\n"
     ]
    }
   ],
   "source": [
    "best_scaler_name_wine = max(best_estimators_wine, key=lambda k: best_estimators_wine[k].score(X_test_wine, y_test_wine))\n",
    "best_estimator_wine = best_estimators_wine[best_scaler_name_wine]\n",
    "wine_predictions = best_estimator_wine.predict(X_test_wine)\n",
    "wine_test_error_rate = 1 - np.mean(wine_predictions == y_test_wine)\n",
    "print(f\"\\nWine Dataset - Best Scaler: {best_scaler_name_wine}, Test Error Rate: {wine_test_error_rate:.4f}\")"
   ],
   "metadata": {
    "collapsed": false,
    "ExecuteTime": {
     "end_time": "2023-12-17T21:16:55.856007800Z",
     "start_time": "2023-12-17T21:16:55.849566800Z"
    }
   }
  },
  {
   "cell_type": "code",
   "execution_count": 10,
   "outputs": [
    {
     "name": "stdout",
     "output_type": "stream",
     "text": [
      "USPS Dataset - Best Scaler: MinMaxScaler, Test Error Rate: 0.0858\n"
     ]
    }
   ],
   "source": [
    "best_scaler_name_usps = max(best_estimators_usps, key=lambda k: best_estimators_usps[k].score(X_test_usps, y_test_usps))\n",
    "best_estimator_usps = best_estimators_usps[best_scaler_name_usps]\n",
    "usps_predictions = best_estimator_usps.predict(X_test_usps)\n",
    "usps_test_error_rate = 1 - np.mean(usps_predictions == y_test_usps)\n",
    "print(f\"USPS Dataset - Best Scaler: {best_scaler_name_usps}, Test Error Rate: {usps_test_error_rate:.4f}\")"
   ],
   "metadata": {
    "collapsed": false,
    "ExecuteTime": {
     "end_time": "2023-12-17T21:16:55.928885800Z",
     "start_time": "2023-12-17T21:16:55.856007800Z"
    }
   }
  }
 ],
 "metadata": {
  "kernelspec": {
   "display_name": "Python 3",
   "language": "python",
   "name": "python3"
  },
  "language_info": {
   "codemirror_mode": {
    "name": "ipython",
    "version": 2
   },
   "file_extension": ".py",
   "mimetype": "text/x-python",
   "name": "python",
   "nbconvert_exporter": "python",
   "pygments_lexer": "ipython2",
   "version": "2.7.6"
  }
 },
 "nbformat": 4,
 "nbformat_minor": 0
}
